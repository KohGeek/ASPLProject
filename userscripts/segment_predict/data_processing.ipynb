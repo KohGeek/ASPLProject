{
 "cells": [
  {
   "cell_type": "code",
   "execution_count": 7,
   "metadata": {},
   "outputs": [],
   "source": [
    "import shutil\n",
    "import os\n",
    "import xml_to_dict as xtd\n",
    "import random\n"
   ]
  },
  {
   "cell_type": "markdown",
   "metadata": {},
   "source": [
    "# Process CVAT labelled data for YOLOv8 training\n",
    "\n",
    "The provided data by ASPL was labelled through rotated bounding box. However, rotated/oriented bounding box remains to be a frontier of research and there is not a lot of format supporting it.\n",
    "\n",
    "Thus, this is an attempt to convert from LabelMe format to YOLO OBB/Segmentation format.\n"
   ]
  },
  {
   "cell_type": "code",
   "execution_count": null,
   "metadata": {},
   "outputs": [],
   "source": [
    "def process_cvat():\n",
    "    search_dir = os.path.abspath('../../datasets/aspl_images_post_labelled\\images')\n",
    "\n",
    "    obj_idx_dict = {\n",
    "            \"Main Pad\": 0,\n",
    "            \"LED Pads\": 1,\n",
    "            \"Main Chip\": 2,\n",
    "            \"Left LED Chip\": 3,\n",
    "            \"Right LED Chip\": 4,\n",
    "            \"Main PCB\": 5\n",
    "        }\n",
    "\n",
    "    parser = xtd.XMLtoDict()\n",
    "\n",
    "    for root, _, files in os.walk(search_dir):\n",
    "\n",
    "        for file in files:\n",
    "\n",
    "            if file.endswith(\".xml\"):\n",
    "\n",
    "                file_path = os.path.join(root, file)\n",
    "                file_name = file.split(\".\")[0]\n",
    "\n",
    "                with open(file_path, 'r') as f:\n",
    "                    content = f.read()\n",
    "                \n",
    "                xml_dict = parser.parse(content)['annotation']\n",
    "\n",
    "                img_x = int(xml_dict['imagesize']['ncols'])\n",
    "                img_y = int(xml_dict['imagesize']['nrows'])\n",
    "\n",
    "                with open(os.path.join(root, file_name + '.txt'), 'w') as f:\n",
    "\n",
    "                    for obj in xml_dict['object']:\n",
    "                        obj_name = obj['name']\n",
    "                        verts = []\n",
    "\n",
    "                        for pt in obj['polygon']['pt']:\n",
    "                            verts.append(f\"{float(pt['x']) / img_x:.6f}\")\n",
    "                            verts.append(f\"{float(pt['y']) / img_y:.6f}\")\n",
    "                    \n",
    "                        f.write(f'{str(obj_idx_dict[obj_name])} {\" \".join(verts)}\\n')\n",
    "    \n",
    "process_cvat()\n"
   ]
  },
  {
   "cell_type": "code",
   "execution_count": 8,
   "metadata": {},
   "outputs": [],
   "source": [
    "def split_cvat():\n",
    "    search_dir = os.path.abspath('../../datasets/aspl_images_post_labelled/images/Train')\n",
    "    val_dir = os.path.abspath('../../datasets/aspl_images_post_labelled/images/Val')\n",
    "    \n",
    "    if not os.path.exists(val_dir):\n",
    "        os.makedirs(val_dir)\n",
    "\n",
    "    for file in os.listdir(search_dir):\n",
    "        if file.endswith(\".txt\"):\n",
    "\n",
    "            file_name = file.split(\".\")[0]\n",
    "\n",
    "            if random.random() < 0.2:\n",
    "                shutil.move(os.path.join(search_dir, file), val_dir)\n",
    "                shutil.move(os.path.join(search_dir, file_name + '.jpg'), val_dir)\n",
    "\n",
    "split_cvat()\n"
   ]
  },
  {
   "cell_type": "markdown",
   "metadata": {},
   "source": [
    "# Process Rendered data for YOLOv8 training\n",
    "\n",
    "Rendered data is already compatible with YOLO OBB/Segmentation format.\n",
    "\n",
    "Just get a list of all files, and copy both the label and the image into train/test folders.\n"
   ]
  },
  {
   "cell_type": "code",
   "execution_count": null,
   "metadata": {},
   "outputs": [],
   "source": [
    "def process_rendered():\n",
    "    img_dir = os.path.abspath('../../datasets/rendered')\n",
    "    lbl_dir = os.path.abspath('../../datasets/rendered/labels')\n",
    "\n",
    "    val_dir = os.path.abspath('../../datasets/rendered/val')\n",
    "    train_dir = os.path.abspath('../../datasets/rendered/train')\n",
    "\n",
    "    if not os.path.exists(val_dir):\n",
    "        os.makedirs(val_dir)\n",
    "\n",
    "    if not os.path.exists(train_dir):\n",
    "        os.makedirs(train_dir)\n",
    "\n",
    "    file_list = os.listdir(img_dir)\n",
    "    n_files = len(file_list)\n",
    "\n",
    "    for i, item in enumerate(file_list):\n",
    "        \n",
    "        if item.endswith('.png'):\n",
    "            item_name = item.split('.')[0]\n",
    "            img_path = os.path.join(img_dir, item)\n",
    "            lbl_path = os.path.join(lbl_dir, item_name + '.txt')\n",
    "\n",
    "            if random.random() < 0.2:\n",
    "                shutil.move(img_path, os.path.join(val_dir, item))\n",
    "                shutil.move(lbl_path, os.path.join(val_dir, item_name + '.txt'))\n",
    "            else:\n",
    "                shutil.move(img_path, os.path.join(train_dir, item))\n",
    "                shutil.move(lbl_path, os.path.join(train_dir, item_name + '.txt'))\n",
    "\n",
    "        if (i - 1) % 100 == 0 or i == n_files - 1:\n",
    "            print(f\"{i+1} / {n_files} files processed\")\n",
    "    \n",
    "process_rendered()\n"
   ]
  }
 ],
 "metadata": {
  "kernelspec": {
   "display_name": "ASPLProject",
   "language": "python",
   "name": "python3"
  },
  "language_info": {
   "codemirror_mode": {
    "name": "ipython",
    "version": 3
   },
   "file_extension": ".py",
   "mimetype": "text/x-python",
   "name": "python",
   "nbconvert_exporter": "python",
   "pygments_lexer": "ipython3",
   "version": "3.11.9"
  }
 },
 "nbformat": 4,
 "nbformat_minor": 2
}
