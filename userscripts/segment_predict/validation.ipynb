{
 "cells": [
  {
   "cell_type": "code",
   "execution_count": null,
   "metadata": {},
   "outputs": [],
   "source": [
    "# get one image from rendered, and its corresponding label, and display them\n",
    "\n",
    "import os\n",
    "import sys\n",
    "import numpy as np\n",
    "import pandas as pd\n",
    "import cv2\n",
    "import matplotlib.pyplot as plt\n",
    "\n",
    "def get_image_label_pair(dir):\n",
    "    print(dir)\n",
    "    # get one image and its corresponding label\n",
    "    # the labels contain all the polygons in the image\n",
    "    image = None\n",
    "    labels = None\n",
    "    for root, _, files in os.walk(dir):\n",
    "        for file in files:\n",
    "            if file.endswith('.png'):\n",
    "                print(file)\n",
    "                image = cv2.imread(os.path.join(root, file))\n",
    "                labels = pd.read_csv(os.path.join(root, file.replace('.png', '.txt')))\n",
    "                break\n",
    "\n",
    "    return image, labels\n",
    "\n",
    "def display_image_label_pair(image, labels):\n",
    "    # display image and draw a polygon label on it\n",
    "    # polygon format is in the form of <name> <x1> <y1> <x2> <y2> ... <xn> <yn>\n",
    "    plt.imshow(cv2.cvtColor(image, cv2.COLOR_BGR2RGB))\n",
    "    plt.axis('off')\n",
    "    for i in range(len(labels)):\n",
    "        polygon = labels.iloc[i]\n",
    "        name = labels.iloc[i][0]\n",
    "        points = np.array(points).reshape(-1, 2)\n",
    "        print(points)\n",
    "        plt.plot(points[:, 0], points[:, 1], color='red')\n",
    "        plt.text(points[0, 0], points[0, 1], name, color='red')\n",
    "\n",
    "\n",
    "dir = os.path.abspath(\"../../datasets/rendered\")\n",
    "image, labels = get_image_label_pair(dir)\n",
    "display_image_label_pair(image, labels)\n"
   ]
  }
 ],
 "metadata": {
  "kernelspec": {
   "display_name": "ASPLProject",
   "language": "python",
   "name": "python3"
  },
  "language_info": {
   "codemirror_mode": {
    "name": "ipython",
    "version": 3
   },
   "file_extension": ".py",
   "mimetype": "text/x-python",
   "name": "python",
   "nbconvert_exporter": "python",
   "pygments_lexer": "ipython3",
   "version": "3.11.9"
  }
 },
 "nbformat": 4,
 "nbformat_minor": 2
}
