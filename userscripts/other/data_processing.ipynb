{
 "cells": [
  {
   "cell_type": "code",
   "execution_count": 2,
   "metadata": {},
   "outputs": [],
   "source": [
    "import shutil\n",
    "import os\n",
    "import xml_to_dict as xtd\n",
    "import random\n"
   ]
  },
  {
   "cell_type": "markdown",
   "metadata": {},
   "source": [
    "# Process CVAT labelled data for YOLOv8 training\n",
    "\n",
    "The provided data by ASPL was labelled through rotated bounding box. However, rotated/oriented bounding box remains to be a frontier of research and there is not a lot of format supporting it.\n",
    "\n",
    "Thus, this is an attempt to convert from LabelMe format to YOLO OBB/Segmentation format.\n"
   ]
  },
  {
   "cell_type": "code",
   "execution_count": null,
   "metadata": {},
   "outputs": [],
   "source": [
    "def process_cvat():\n",
    "    search_dir = os.path.abspath('../../datasets/aspl_images_post_labelled\\images')\n",
    "\n",
    "    obj_idx_dict = {\n",
    "            \"Main Pad\": 0,\n",
    "            \"LED Pads\": 1,\n",
    "            \"Main Chip\": 2,\n",
    "            \"Left LED Chip\": 3,\n",
    "            \"Right LED Chip\": 4,\n",
    "            \"Main PCB\": 5\n",
    "        }\n",
    "\n",
    "    parser = xtd.XMLtoDict()\n",
    "\n",
    "    for root, _, files in os.walk(search_dir):\n",
    "\n",
    "        for file in files:\n",
    "\n",
    "            if file.endswith(\".xml\"):\n",
    "\n",
    "                file_path = os.path.join(root, file)\n",
    "                file_name = file.split(\".\")[0]\n",
    "\n",
    "                with open(file_path, 'r') as f:\n",
    "                    content = f.read()\n",
    "                \n",
    "                xml_dict = parser.parse(content)['annotation']\n",
    "\n",
    "                img_x = int(xml_dict['imagesize']['ncols'])\n",
    "                img_y = int(xml_dict['imagesize']['nrows'])\n",
    "\n",
    "                with open(os.path.join(root, file_name + '.txt'), 'w') as f:\n",
    "\n",
    "                    for obj in xml_dict['object']:\n",
    "                        obj_name = obj['name']\n",
    "                        verts = []\n",
    "\n",
    "                        for pt in obj['polygon']['pt']:\n",
    "                            verts.append(f\"{float(pt['x']) / img_x:.6f}\")\n",
    "                            verts.append(f\"{float(pt['y']) / img_y:.6f}\")\n",
    "                    \n",
    "                        f.write(f'{str(obj_idx_dict[obj_name])} {\" \".join(verts)}\\n')\n",
    "    \n",
    "process_cvat()\n"
   ]
  },
  {
   "cell_type": "code",
   "execution_count": 8,
   "metadata": {},
   "outputs": [],
   "source": [
    "def split_cvat():\n",
    "    search_dir = os.path.abspath('../../datasets/aspl_images/images/Train')\n",
    "    val_dir = os.path.abspath('../../datasets/aspl_images/images/Val')\n",
    "    \n",
    "    if not os.path.exists(val_dir):\n",
    "        os.makedirs(val_dir)\n",
    "\n",
    "    for file in os.listdir(search_dir):\n",
    "        if file.endswith(\".txt\"):\n",
    "\n",
    "            file_name = file.split(\".\")[0]\n",
    "\n",
    "            if random.random() < 0.2:\n",
    "                shutil.move(os.path.join(search_dir, file), val_dir)\n",
    "                shutil.move(os.path.join(search_dir, file_name + '.jpg'), val_dir)\n",
    "\n",
    "split_cvat()\n"
   ]
  },
  {
   "cell_type": "markdown",
   "metadata": {},
   "source": [
    "# Process Rendered data for YOLOv8 training\n",
    "\n",
    "Rendered data is already compatible with YOLO OBB/Segmentation format.\n",
    "\n",
    "Just get a list of all files, and copy both the label and the image into train/test folders.\n"
   ]
  },
  {
   "cell_type": "code",
   "execution_count": 12,
   "metadata": {},
   "outputs": [],
   "source": [
    "def rendered_select():\n",
    "    train_dir = os.path.abspath('../../datasets/rendered/train')\n",
    "    test_dir = os.path.abspath('../../datasets/rendered/test')\n",
    "    backup_dir = os.path.abspath('../../datasets/rendered/backup')\n",
    "\n",
    "    # from backup folder:\n",
    "    # select 500 good, 360 bad, 240 mirage for train\n",
    "    # select 120 good, 85 bad, 60 mirage for test\n",
    "    # move the correspnding txt files too\n",
    "\n",
    "    file_list = os.listdir(backup_dir)\n",
    "    random.shuffle(file_list)\n",
    "\n",
    "    good_count = 0\n",
    "    bad_count = 0\n",
    "    mirage_count = 0\n",
    "\n",
    "    for file in file_list:\n",
    "        if file.endswith(\".png\"):\n",
    "            if \"good\" in file:\n",
    "                if good_count < 500:\n",
    "                    shutil.move(os.path.join(backup_dir, file), train_dir)\n",
    "                    shutil.move(os.path.join(backup_dir, file.split(\".\")[0] + \".txt\"), train_dir)\n",
    "                    good_count += 1\n",
    "                elif good_count < 620:\n",
    "                    shutil.move(os.path.join(backup_dir, file), test_dir)\n",
    "                    shutil.move(os.path.join(backup_dir, file.split(\".\")[0] + \".txt\"), test_dir)\n",
    "                    good_count += 1\n",
    "            elif \"bad\" in file:\n",
    "                if bad_count < 360:\n",
    "                    shutil.move(os.path.join(backup_dir, file), train_dir)\n",
    "                    shutil.move(os.path.join(backup_dir, file.split(\".\")[0] + \".txt\"), train_dir)\n",
    "                    bad_count += 1\n",
    "                elif bad_count < 445:\n",
    "                    shutil.move(os.path.join(backup_dir, file), test_dir)\n",
    "                    shutil.move(os.path.join(backup_dir, file.split(\".\")[0] + \".txt\"), test_dir)\n",
    "                    bad_count += 1\n",
    "            elif \"mirage\" in file:\n",
    "                if mirage_count < 240:\n",
    "                    shutil.move(os.path.join(backup_dir, file), train_dir)\n",
    "                    shutil.move(os.path.join(backup_dir, file.split(\".\")[0] + \".txt\"), train_dir)\n",
    "                    mirage_count += 1\n",
    "                elif mirage_count < 300:\n",
    "                    shutil.move(os.path.join(backup_dir, file), test_dir)\n",
    "                    shutil.move(os.path.join(backup_dir, file.split(\".\")[0] + \".txt\"), test_dir)\n",
    "                    mirage_count += 1\n",
    "\n",
    "rendered_select()\n"
   ]
  },
  {
   "cell_type": "code",
   "execution_count": 9,
   "metadata": {},
   "outputs": [
    {
     "name": "stdout",
     "output_type": "stream",
     "text": [
      "2 / 623 files processed\n",
      "102 / 623 files processed\n",
      "202 / 623 files processed\n",
      "302 / 623 files processed\n",
      "402 / 623 files processed\n",
      "502 / 623 files processed\n",
      "602 / 623 files processed\n",
      "623 / 623 files processed\n"
     ]
    }
   ],
   "source": [
    "def process_rendered():\n",
    "    img_dir = os.path.abspath('../../datasets/rendered')\n",
    "    lbl_dir = os.path.abspath('../../datasets/rendered/labels')\n",
    "\n",
    "    test_dir = os.path.abspath('../../datasets/rendered/test')\n",
    "    train_dir = os.path.abspath('../../datasets/rendered/train')\n",
    "\n",
    "    if not os.path.exists(test_dir):\n",
    "        os.makedirs(test_dir)\n",
    "\n",
    "    if not os.path.exists(train_dir):\n",
    "        os.makedirs(train_dir)\n",
    "\n",
    "    file_list = [file for file in os.listdir(img_dir) if file.endswith('.png')]\n",
    "    random.shuffle(file_list)\n",
    "    n_files = len(file_list)\n",
    "\n",
    "    for i, item in enumerate(file_list):\n",
    "        \n",
    "        item_name = item.split('.')[0]\n",
    "        img_path = os.path.join(img_dir, item)\n",
    "        lbl_path = os.path.join(lbl_dir, item_name + '.txt')\n",
    "\n",
    "        if i < n_files * 0.2:\n",
    "            shutil.move(img_path, os.path.join(test_dir, item))\n",
    "            shutil.move(lbl_path, os.path.join(test_dir, item_name + '.txt'))\n",
    "        else:\n",
    "            shutil.move(img_path, os.path.join(train_dir, item))\n",
    "            shutil.move(lbl_path, os.path.join(train_dir, item_name + '.txt'))\n",
    "\n",
    "        if (i - 1) % 100 == 0 or i == n_files - 1:\n",
    "            print(f\"{i+1} / {n_files} files processed\")\n",
    "    \n",
    "process_rendered()\n"
   ]
  },
  {
   "cell_type": "markdown",
   "metadata": {},
   "source": [
    "# Removing unnecessary labels"
   ]
  },
  {
   "cell_type": "code",
   "execution_count": 3,
   "metadata": {},
   "outputs": [
    {
     "ename": "",
     "evalue": "",
     "output_type": "error",
     "traceback": [
      "\u001b[1;31mThe Kernel crashed while executing code in the current cell or a previous cell. \n",
      "\u001b[1;31mPlease review the code in the cell(s) to identify a possible cause of the failure. \n",
      "\u001b[1;31mClick <a href='https://aka.ms/vscodeJupyterKernelCrash'>here</a> for more info. \n",
      "\u001b[1;31mView Jupyter <a href='command:jupyter.viewOutput'>log</a> for further details."
     ]
    }
   ],
   "source": [
    "def processing(files, root):\n",
    "    for file in files:\n",
    "        if file.endswith('.txt'):\n",
    "            file_path = os.path.join(root, file)\n",
    "            with open(file_path, 'r') as f:\n",
    "                lines = f.readlines()\n",
    "            with open(file_path, 'w') as f:\n",
    "                for line in lines:\n",
    "                    if line.split()[0] != '5':\n",
    "                        f.write(line) \n",
    "\n",
    "def remove_pcb():\n",
    "    rendered_path = os.path.abspath('../../datasets/rendered')\n",
    "    aspl_path = os.path.abspath('../../datasets/aspl_images')\n",
    "\n",
    "    for root, _, files in os.walk(aspl_path):\n",
    "        processing(files, root)\n",
    "    \n",
    "    for root, _, files in os.walk(rendered_path):\n",
    "        processing(files, root)\n",
    "\n",
    "remove_pcb()\n"
   ]
  },
  {
   "cell_type": "markdown",
   "metadata": {},
   "source": [
    "# OpenCV\n",
    "\n",
    "Applying transformation to certain images, especially on hue, brightness, and contrast\n",
    "\n",
    "Additionnaly, maybe applying jpg compression to the images to simulate the real world scenario."
   ]
  },
  {
   "cell_type": "code",
   "execution_count": null,
   "metadata": {},
   "outputs": [],
   "source": []
  }
 ],
 "metadata": {
  "kernelspec": {
   "display_name": "ASPLProject",
   "language": "python",
   "name": "python3"
  },
  "language_info": {
   "codemirror_mode": {
    "name": "ipython",
    "version": 3
   },
   "file_extension": ".py",
   "mimetype": "text/x-python",
   "name": "python",
   "nbconvert_exporter": "python",
   "pygments_lexer": "ipython3",
   "version": "3.11.9"
  }
 },
 "nbformat": 4,
 "nbformat_minor": 2
}
