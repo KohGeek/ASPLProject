{
 "cells": [
  {
   "cell_type": "markdown",
   "metadata": {},
   "source": [
    "# Hyperparameter exploration\n"
   ]
  },
  {
   "cell_type": "code",
   "execution_count": null,
   "metadata": {},
   "outputs": [],
   "source": [
    "import os\n",
    "\n",
    "from ultralytics import YOLO\n",
    "from ray import tune\n",
    "\n",
    "def tune_model(prefix, pt_model, data, space):\n",
    "    name = prefix + '_' + pt_model.split('.')[0] + '_' + data.split('.')[0]\n",
    "    \n",
    "    task = pt_model.split('-')[1].split('.')[0]\n",
    "    if task == 'seg':\n",
    "        task = 'segment'\n",
    "    elif task == 'obb':\n",
    "        task = 'OBB'\n",
    "    else:\n",
    "        raise ValueError('Invalid task type. Must be seg or obb')\n",
    "    \n",
    "    data_path = os.path.join(os.getcwd(), data)\n",
    "\n",
    "    model = YOLO(pt_model, task)\n",
    "    result_grid = model.tune(data=data_path, use_ray=True, space=space, grace_period=4, batch=-1, epochs=20, name=name, device=0, degrees=180, gpu_per_trial=1)\n",
    "   \n",
    "    return result_grid\n",
    "\n",
    "# models = {'yolov8s-seg.pt': [640,0.3,0],'yolov9c-seg.pt': [640,0.3,0], 'yolov8s-obb.pt': [800,0.2,0.25]}\n",
    "models = ['yolov8s-seg.pt', 'yolov9c-seg.pt', 'yolov8s-obb.pt']\n",
    "\n",
    "datasets = ['cgi.yaml', 'human.yaml', 'combined.yaml']\n",
    "\n",
    "space = {\n",
    "    'lr0': tune.uniform(1e-6, 2e-1),\n",
    "    'momentum': tune.uniform(0.6, 0.98),\n",
    "    'box': tune.uniform(0.02, 10),\n",
    "    'cls': tune.uniform(0.2, 4.0),\n",
    "    'dropout': tune.uniform(0, 0.5)\n",
    "}\n",
    "\n",
    "for pt in models:\n",
    "    for dataset in datasets:\n",
    "        result = tune_model('tuner', pt, dataset, space)\n"
   ]
  },
  {
   "cell_type": "markdown",
   "metadata": {},
   "source": [
    "# Training models\n"
   ]
  },
  {
   "cell_type": "code",
   "execution_count": null,
   "metadata": {},
   "outputs": [],
   "source": [
    "import os\n",
    "\n",
    "from ultralytics import YOLO\n",
    "\n",
    "def train_model(pt_model, data, prefix, img_size, dropout):\n",
    "    name = prefix + '_' + pt_model.split('.')[0] + '_' + data.split('.')[0]\n",
    "    \n",
    "    task = pt_model.split('-')[1].split('.')[0]\n",
    "    if task == 'seg':\n",
    "        task = 'segment'\n",
    "    elif task == 'obb':\n",
    "        task = 'obb'\n",
    "    else:\n",
    "        raise ValueError('Invalid task type. Must be seg or obb')\n",
    "\n",
    "    # check if folder exists\n",
    "    if os.path.exists(os.path.abspath(f\"./runs/{task}/{name}\")):\n",
    "        return\n",
    "\n",
    "    epochs = 30\n",
    "    patience = 15\n",
    "\n",
    "    close_mosaic = 15\n",
    "    batch_size = -1\n",
    "    cache = False\n",
    "\n",
    "    model = YOLO(pt_model)\n",
    "    model.train(data=data, epochs=epochs, imgsz=img_size, patience=patience, batch=batch_size, cache=cache, name=name, dropout=dropout, device=0, degrees=180, close_mosaic=close_mosaic)\n",
    "    return model\n",
    "\n",
    "models = {\n",
    "    'yolov8s-seg.pt': [480, 0.1],\n",
    "    'yolov8s-obb.pt': [640, 0.2],\n",
    "    'yolov9c-seg.pt': [480, 0.1]\n",
    "}\n",
    "\n",
    "datasets = ['cgi_sled.yaml', 'human_sled.yaml', 'combined_sled.yaml']\n",
    "\n",
    "prefix = 'tiny'\n",
    "\n",
    "for model in models:\n",
    "    for data in datasets:\n",
    "        train_model(model, data, prefix, models[model][0], models[model][1])\n"
   ]
  }
 ],
 "metadata": {
  "kernelspec": {
   "display_name": "ASPLProject",
   "language": "python",
   "name": "python3"
  },
  "language_info": {
   "codemirror_mode": {
    "name": "ipython",
    "version": 3
   },
   "file_extension": ".py",
   "mimetype": "text/x-python",
   "name": "python",
   "nbconvert_exporter": "python",
   "pygments_lexer": "ipython3",
   "version": "3.10.11"
  }
 },
 "nbformat": 4,
 "nbformat_minor": 2
}
