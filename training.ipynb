{
 "cells": [
  {
   "cell_type": "markdown",
   "metadata": {},
   "source": [
    "# Training Notebook\n",
    "\n",
    "## Setup\n",
    "\n",
    "### Imports\n"
   ]
  },
  {
   "cell_type": "code",
   "execution_count": null,
   "metadata": {
    "notebookRunGroups": {
     "groupValue": "1"
    }
   },
   "outputs": [],
   "source": [
    "import os\n",
    "\n",
    "from ultralytics import YOLO\n",
    "from ray import tune\n"
   ]
  },
  {
   "cell_type": "markdown",
   "metadata": {},
   "source": [
    "### Tune Model Function\n"
   ]
  },
  {
   "cell_type": "code",
   "execution_count": null,
   "metadata": {
    "notebookRunGroups": {
     "groupValue": "1"
    }
   },
   "outputs": [],
   "source": [
    "# Tune model function is broken if yaml is not in root directory\n",
    "\n",
    "def tune_model(prefix, pt_model, data_dir, data, search_space):\n",
    "\n",
    "    name = prefix + '_' + pt_model.split('.')[0] + '_' + data.split('.')[0]\n",
    "    task = pt_model.split('-')[1].split('.')[0]\n",
    "\n",
    "    if task == 'seg':\n",
    "        task = 'segment'\n",
    "    elif task == 'obb':\n",
    "        task = 'OBB'\n",
    "    else:\n",
    "        raise ValueError('Invalid task type. Must be seg or obb')\n",
    "    \n",
    "    data_path = os.path.join(data_dir, data)\n",
    "\n",
    "    model = YOLO(pt_model, task)\n",
    "    result_grid = model.tune(data=data_path, use_ray=True, space=search_space, grace_period=4, batch=-1, epochs=20, name=name, device=0, degrees=180, gpu_per_trial=1)\n",
    "    return result_grid\n"
   ]
  },
  {
   "cell_type": "markdown",
   "metadata": {},
   "source": [
    "### Train Model Function\n"
   ]
  },
  {
   "cell_type": "code",
   "execution_count": null,
   "metadata": {
    "notebookRunGroups": {
     "groupValue": "1"
    }
   },
   "outputs": [],
   "source": [
    "def train_model(prefix, pt_model, data_dir, data, img_size, dropout, seed):\n",
    "\n",
    "    epochs = 80\n",
    "    patience = 25\n",
    "\n",
    "    close_mosaic = 15\n",
    "    batch_size = -1\n",
    "    cache = False\n",
    "    resume = False\n",
    "\n",
    "\n",
    "    name = prefix + '_' + pt_model.split('.')[0] + '_' + data.split('.')[0]\n",
    "    task = pt_model.split('-')[1].split('.')[0]\n",
    "\n",
    "    if task == 'seg':\n",
    "        task = 'segment'\n",
    "    elif task == 'obb':\n",
    "        task = 'obb'\n",
    "    else:\n",
    "        raise ValueError('Invalid task type. Must be seg or obb')\n",
    "    \n",
    "\n",
    "    data_path = os.path.join(data_dir, data)\n",
    "    runs_path = os.path.relpath(f\"./runs/{task}/{name}\")\n",
    "\n",
    "    # check if folder exists, then check if results.png exists\n",
    "    # results.png signify end of training, so skip\n",
    "    # if folder exist, but results.png doesn't, take the model from the folder and continue training\n",
    "    # if folder doesn't exist, continue as usual\n",
    "\n",
    "    if os.path.exists(os.path.join(runs_path, \"results.png\")):\n",
    "        print(f\"Model {name} already trained. Skipping...\")\n",
    "        return\n",
    "    elif os.path.exists(runs_path):\n",
    "        pt_model = os.path.join(runs_path, \"weights\", \"last.pt\")\n",
    "        resume = True\n",
    "\n",
    "    model = YOLO(pt_model)\n",
    "    model.train(data=data_path, epochs=epochs, imgsz=img_size, patience=patience, batch=batch_size, cache=cache, name=name, dropout=dropout, device=0, degrees=180, close_mosaic=close_mosaic, resume=resume, seed=seed)\n",
    "    return model\n"
   ]
  },
  {
   "cell_type": "markdown",
   "metadata": {},
   "source": [
    "## Training\n"
   ]
  },
  {
   "cell_type": "code",
   "execution_count": null,
   "metadata": {
    "notebookRunGroups": {
     "groupValue": ""
    }
   },
   "outputs": [],
   "source": [
    "SEARCH_SPACE = {\n",
    "    'lr0': tune.uniform(1e-6, 2e-1),\n",
    "    'momentum': tune.uniform(0.6, 0.98),\n",
    "    'box': tune.uniform(0.02, 10),\n",
    "    'cls': tune.uniform(0.2, 4.0),\n",
    "    'dropout': tune.uniform(0, 0.5)\n",
    "}\n",
    "\n",
    "DATASET_YAML_DIR = os.path.relpath('./datasets_yaml/render_tests')\n",
    "\n",
    "datasets = []\n",
    "\n",
    "for file in os.listdir(DATASET_YAML_DIR):\n",
    "    if file.endswith('.yaml'):\n",
    "        datasets.append(os.path.join(file))\n",
    "\n",
    "\n",
    "# model data\n",
    "# format: 'pretrained model': [image size, dropout]\n",
    "models_data = {\n",
    "    'yolov8s-seg.pt': [640, 0.1],\n",
    "    # 'yolov8s-obb.pt': [800, 0.2],\n",
    "    # 'yolov9c-seg.pt': [640, 0.1]\n",
    "}\n",
    "\n",
    "prefix = 'final'\n",
    "\n",
    "for i, (pt, v) in enumerate(models_data.items()):\n",
    "    for data in datasets:\n",
    "        train_model(prefix, pt, DATASET_YAML_DIR, data, v[0], v[1], 1)\n"
   ]
  }
 ],
 "metadata": {
  "kernelspec": {
   "display_name": "ASPLProject",
   "language": "python",
   "name": "python3"
  },
  "language_info": {
   "codemirror_mode": {
    "name": "ipython",
    "version": 3
   },
   "file_extension": ".py",
   "mimetype": "text/x-python",
   "name": "python",
   "nbconvert_exporter": "python",
   "pygments_lexer": "ipython3",
   "version": "3.10.11"
  }
 },
 "nbformat": 4,
 "nbformat_minor": 2
}
