{
 "cells": [
  {
   "cell_type": "markdown",
   "metadata": {},
   "source": [
    "# Segment and Prediction Notebook\n",
    "\n",
    "## Setup\n",
    "\n",
    "### Imports and Global Variables\n"
   ]
  },
  {
   "cell_type": "code",
   "execution_count": 1,
   "metadata": {
    "notebookRunGroups": {
     "groupValue": "1"
    }
   },
   "outputs": [],
   "source": [
    "import os\n",
    "import threading\n",
    "\n",
    "from queue import Queue\n",
    "\n",
    "import cv2\n",
    "import matplotlib.pyplot as plt\n",
    "import matplotlib.patches as patches\n",
    "import matplotlib.transforms as transforms\n",
    "import numpy as np \n",
    "import pandas as pd \n",
    "\n",
    "from PIL import Image\n",
    "from ultralytics import YOLO\n",
    "\n",
    "obj_name = {\n",
    "    0: 'Main Pad',\n",
    "    1: 'LED Pad',\n",
    "    2: 'Main Chip',\n",
    "    3: 'LED Chip'\n",
    "}\n",
    "\n",
    "models = {\n",
    "    'final_yolov8s-seg_cgi_sled': ['seg', '320'],\n",
    "    'final_yolov8s-seg_human_sled': ['seg', '320'],\n",
    "    'final_yolov8s-seg_combined_sled': ['seg', '320'],\n",
    "    'final_yolov9c-seg_cgi_sled': ['seg', '320'],\n",
    "    'final_yolov9c-seg_human_sled': ['seg', '320'],\n",
    "    'final_yolov9c-seg_combined_sled': ['seg', '320'],\n",
    "    'final_yolov8s-obb_cgi_sled': ['obb', '400'],\n",
    "    'final_yolov8s-obb_human_sled': ['obb', '400'],\n",
    "    'final_yolov8s-obb_combined_sled': ['obb', '400'],\n",
    "}\n",
    "\n",
    "l_metrics = [None] * len(models)\n",
    "q = Queue(maxsize=1)\n",
    "\n",
    "test_cropped_path = os.path.relpath(\"./datasets/test_cropped\")\n",
    "test_path = os.path.relpath(\"./datasets/test\")\n",
    "\n",
    "test_cropped_yaml_path = os.path.relpath(\"./datasets_yaml/test_cropped.yaml\")\n",
    "test_yaml_path = os.path.relpath(\"./datasets_yaml/sled/combined_sled.yaml\")\n",
    "\n",
    "images = []\n",
    "no_led = []\n"
   ]
  },
  {
   "cell_type": "markdown",
   "metadata": {},
   "source": [
    "### Function to visualize labeled data\n"
   ]
  },
  {
   "cell_type": "code",
   "execution_count": null,
   "metadata": {
    "notebookRunGroups": {
     "groupValue": "1"
    }
   },
   "outputs": [],
   "source": [
    "def label_check(dir, image_name):\n",
    "    # Load the image\n",
    "    image_path = os.path.join(dir, image_name)\n",
    "    image = Image.open(image_path)\n",
    "\n",
    "    image_width, image_height = image.size\n",
    "\n",
    "    # Load the label in YOLO polygon format\n",
    "    label_name = image_name.replace('png', 'txt').replace('jpg', 'txt')\n",
    "    label_path = os.path.join(dir, label_name)\n",
    "    with open(label_path, 'r') as f:\n",
    "        labels = f.read().splitlines()\n",
    "\n",
    "    # Parse the label to extract the polygon coordinates\n",
    "    # Assuming the label is in the format: id x1 y1 x2 y2 x3 y3 x4 y4\n",
    "    shapes = []\n",
    "    for label in labels:\n",
    "        label = label.split(' ')\n",
    "        label = [ float(x) for x in label ]\n",
    "        point1 = (label[1]*image_width, label[2]*image_height)\n",
    "        point2 = (label[3]*image_width, label[4]*image_height)\n",
    "        point3 = (label[5]*image_width, label[6]*image_height)\n",
    "        point4 = (label[7]*image_width, label[8]*image_height)\n",
    "\n",
    "        shapes.append((label[0],[point1, point2, point3, point4]))\n",
    "\n",
    "    # just plot the fucking points as corner of squares\n",
    "    # Plot the image\n",
    "    _, ax = plt.subplots()\n",
    "    ax.imshow(image)\n",
    "    ax.axis('off')\n",
    "\n",
    "    for data in shapes:\n",
    "        i, shape = data\n",
    "        polygon = patches.Polygon(shape, linewidth=1, edgecolor='r', facecolor='none')    \n",
    "\n",
    "        # Add the patch to the Axes\n",
    "        ax.add_patch(polygon)\n",
    "\n",
    "        # Add label to the patches according to obj_name\n",
    "        label = obj_name[i]\n",
    "        ax.text(shape[0][0], shape[0][1], label, color='white')\n",
    "\n",
    "    plt.show()\n"
   ]
  },
  {
   "cell_type": "markdown",
   "metadata": {},
   "source": [
    "### Thread safe function to test and validate models\n"
   ]
  },
  {
   "cell_type": "code",
   "execution_count": null,
   "metadata": {
    "notebookRunGroups": {
     "groupValue": "1"
    }
   },
   "outputs": [],
   "source": [
    "def thread_safe_test(model, type, i, cropped_test, modified_imgsz):\n",
    "\n",
    "    q.put(1)\n",
    "\n",
    "    model = YOLO(os.path.join(\"runs\", type, model, \"weights\", \"best.pt\"))\n",
    "\n",
    "    if cropped_test:\n",
    "        l_metrics[i] = model.val(data=test_cropped_yaml_path, plots=True, device=0, imgsz=modified_imgsz)\n",
    "    else:\n",
    "        l_metrics[i] = model.val(data=test_yaml_path, plots=True, device=0)\n",
    "\n",
    "    q.get()\n"
   ]
  },
  {
   "cell_type": "markdown",
   "metadata": {},
   "source": [
    "### Function to get a list of all images\n"
   ]
  },
  {
   "cell_type": "code",
   "execution_count": null,
   "metadata": {
    "notebookRunGroups": {
     "groupValue": "1"
    }
   },
   "outputs": [],
   "source": [
    "def get_all_images(path):\n",
    "    for file in os.listdir(path):\n",
    "        if file.endswith(\".jpg\") or file.endswith(\".png\"):\n",
    "            images.append(os.path.join(path, file))\n"
   ]
  },
  {
   "cell_type": "markdown",
   "metadata": {},
   "source": [
    "## Run Codes\n"
   ]
  },
  {
   "cell_type": "markdown",
   "metadata": {},
   "source": [
    "### Validating the models\n"
   ]
  },
  {
   "cell_type": "code",
   "execution_count": null,
   "metadata": {},
   "outputs": [],
   "source": [
    "for i, (model, v) in enumerate(models.items()):\n",
    "    threading.Thread(target=thread_safe_test, args=(model, v[0], i, False, v[1])).start()\n",
    "\n",
    "for i, metric in enumerate(l_metrics):\n",
    "    metric.box.map\n"
   ]
  },
  {
   "cell_type": "markdown",
   "metadata": {},
   "source": [
    "### Label checking\n"
   ]
  },
  {
   "cell_type": "code",
   "execution_count": null,
   "metadata": {},
   "outputs": [],
   "source": [
    "img_dir = 'datasets/rendered/train'\n",
    "img_name = 'bad_9.png'\n",
    "\n",
    "# img_dir = 'datasets/aspl/train'\n",
    "# img_name = 'HHF22150120_40_10_56-MD_1.jpg'\n",
    "\n",
    "label_check(img_dir, img_name)\n"
   ]
  },
  {
   "cell_type": "markdown",
   "metadata": {},
   "source": [
    "### Get labelled output\n"
   ]
  },
  {
   "cell_type": "code",
   "execution_count": null,
   "metadata": {},
   "outputs": [],
   "source": [
    "model = YOLO('runs/segment/final_yolov8s-seg_cgi_sled/weights/best.pt')\n",
    "\n",
    "results = model(images, stream=True)\n",
    "\n",
    "for i, result in enumerate(results):\n",
    "    no_led.append((images[i],result))\n"
   ]
  },
  {
   "cell_type": "markdown",
   "metadata": {},
   "source": [
    "### Display outputs\n"
   ]
  },
  {
   "cell_type": "code",
   "execution_count": null,
   "metadata": {},
   "outputs": [],
   "source": [
    "# WIP\n",
    "\n",
    "for i, (image, result) in enumerate(no_led):\n",
    "    data = result.summary()\n",
    "    if i % 10 != 0:\n",
    "        continue\n",
    "    for item in data:\n",
    "\n",
    "\n",
    "        img = cv2.imread(image)\n",
    "\n",
    "        # thresholding\n",
    "        blur = cv2.cvtColor(img, cv2.COLOR_BGR2GRAY)\n",
    "        th = cv2.threshold(blur, 40, 128, cv2.THRESH_BINARY)[1]\n",
    "\n",
    "        segment = item[\"segments\"]\n",
    "\n",
    "        contours = []\n",
    "        for i, seg in enumerate(segment['x']):\n",
    "            contours.append(np.array([seg, segment['y'][i]]))\n",
    "        ctr = np.array(contours).reshape((-1,1,2)).astype(np.int32)\n",
    "\n",
    "        rect = cv2.minAreaRect(ctr)\n",
    "        box = np.intp(cv2.boxPoints(rect))\n",
    "\n",
    "\n",
    "\n",
    "\n",
    "        if rect[1][0] > rect[1][1]:\n",
    "            angle = rect[2]\n",
    "        else:\n",
    "            angle = 90 + rect[2]\n",
    "        \n",
    "        M = cv2.getRotationMatrix2D(rect[0], angle, 1)\n",
    "        img = cv2.warpAffine(img, M, (img.shape[1], img.shape[0]))\n",
    "        th = cv2.warpAffine(th, M, (th.shape[1], th.shape[0]))\n",
    "        box = cv2.transform(np.array([box]), M)[0]\n",
    "\n",
    "\n",
    "\n",
    "\n",
    "        M = cv2.moments(th)\n",
    "        cX = int(M[\"m10\"] / M[\"m00\"])\n",
    "        cY = int(M[\"m01\"] / M[\"m00\"])\n",
    "\n",
    "        # Check if the centroid is in the upper half of the image\n",
    "        if cY < img.shape[0] / 2:\n",
    "            # Rotate the image by 180 degrees\n",
    "            M = cv2.getRotationMatrix2D((img.shape[1] / 2, img.shape[0] / 2), 180, 1)\n",
    "            img = cv2.warpAffine(img, M, (img.shape[1], img.shape[0]))\n",
    "            box = cv2.transform(np.array([box]), M)[0]\n",
    "\n",
    "\n",
    "\n",
    "\n",
    "        box_center = np.mean(box, axis=0)\n",
    "        box_width = np.linalg.norm(box[0] - box[1])\n",
    "        box_height = np.linalg.norm(box[1] - box[2])\n",
    "\n",
    "        print(box_center, box_width, box_height)\n",
    "\n",
    "        box_1 = box.copy()\n",
    "        box_2 = box.copy()\n",
    "\n",
    "        # subtract box1 by box_width /2\n",
    "        for i, _ in enumerate(box_1):\n",
    "            box_1[i][0] = (box_1[i][0] * 0.35) + (1-0.35) * box_center[0]\n",
    "            box_1[i][1] = (box_1[i][1] * 0.7) + (1-0.7) * box_center[1]\n",
    "        \n",
    "        # add box2 by box_width /2\n",
    "        for i, _ in enumerate(box_2):\n",
    "            box_2[i][0] = (box_2[i][0] * 0.33) + (1-0.33) * box_center[0] \n",
    "            box_2[i][1] = (box_2[i][1] * 0.66) + (1-0.66) * box_center[1]\n",
    "\n",
    "\n",
    "\n",
    "\n",
    "        box_polygon = patches.Polygon(box, linewidth=1, edgecolor='r', facecolor='none')\n",
    "        box_polygon_1 = patches.Polygon(box_1, linewidth=1, edgecolor='r', facecolor='none')\n",
    "        box_polygon_2 = patches.Polygon(box_2, linewidth=1, edgecolor='r', facecolor='none')\n",
    "\n",
    "        plt.gca().add_patch(box_polygon)\n",
    "        plt.gca().add_patch(box_polygon_1)\n",
    "        plt.gca().add_patch(box_polygon_2)\n",
    "        plt.imshow(img)\n",
    "        plt.axis('off')\n",
    "        plt.show()\n",
    "        \n"
   ]
  }
 ],
 "metadata": {
  "kernelspec": {
   "display_name": "ASPLProject",
   "language": "python",
   "name": "python3"
  },
  "language_info": {
   "codemirror_mode": {
    "name": "ipython",
    "version": 3
   },
   "file_extension": ".py",
   "mimetype": "text/x-python",
   "name": "python",
   "nbconvert_exporter": "python",
   "pygments_lexer": "ipython3",
   "version": "3.10.11"
  }
 },
 "nbformat": 4,
 "nbformat_minor": 2
}
