{
 "cells": [
  {
   "cell_type": "markdown",
   "metadata": {},
   "source": [
    "# Segment and Prediction Notebook\n",
    "\n",
    "## Setup\n",
    "\n",
    "### Imports and Global Variables\n"
   ]
  },
  {
   "cell_type": "code",
   "execution_count": null,
   "metadata": {
    "notebookRunGroups": {
     "groupValue": "1"
    }
   },
   "outputs": [],
   "source": [
    "import os\n",
    "import random\n",
    "import threading\n",
    "\n",
    "from queue import Queue\n",
    "\n",
    "import cv2\n",
    "import matplotlib as mpl\n",
    "import matplotlib.pyplot as plt\n",
    "import matplotlib.patches as patches\n",
    "import numpy as np \n",
    "\n",
    "from PIL import Image\n",
    "from ultralytics import YOLO\n",
    "\n",
    "obj_name = {\n",
    "    0: 'Main Pad',\n",
    "    1: 'LED Pad',\n",
    "    2: 'Main Chip',\n",
    "    3: 'LED Chip'\n",
    "}\n",
    "\n",
    "# models = {\n",
    "#     'final_yolov8s-seg_cgi_sled': ['segment', '320'],\n",
    "#     'final_yolov8s-seg_human_sled': ['segment', '320'],\n",
    "#     'final_yolov8s-seg_combined_sled': ['segment', '320'],\n",
    "#     'final_yolov9c-seg_cgi_sled': ['segment', '320'],\n",
    "#     'final_yolov9c-seg_human_sled': ['segment', '320'],\n",
    "#     'final_yolov9c-seg_combined_sled': ['segment', '320'],\n",
    "#     'final_yolov8s-obb_cgi_sled': ['OBB', '400'],\n",
    "#     'final_yolov8s-obb_human_sled': ['OBB', '400'],\n",
    "#     'final_yolov8s-obb_combined_sled': ['OBB', '400'],\n",
    "# }\n",
    "\n",
    "models = {\n",
    "    'r_test_yolov8s-seg_control': ['segment', '320'],\n",
    "    'r_test_yolov8s-seg_nocomp': ['segment', '320'],\n",
    "    'r_test_yolov8s-seg_somecomp': ['segment', '320'],\n",
    "}\n",
    "\n",
    "l_metrics = [None] * len(models)\n",
    "q = Queue(maxsize=1)\n",
    "\n",
    "test_cropped_path = os.path.relpath(\"./datasets/test_cropped\")\n",
    "test_path = os.path.relpath(\"./datasets/test\")\n",
    "\n",
    "test_cropped_yaml_path = os.path.relpath(\"./datasets_yaml/test_cropped.yaml\")\n",
    "test_yaml_path = os.path.relpath(\"./datasets_yaml/sled/combined_sled.yaml\")\n",
    "\n",
    "images = []\n",
    "no_led = []\n",
    "\n",
    "log_level = 0\n"
   ]
  },
  {
   "cell_type": "markdown",
   "metadata": {},
   "source": [
    "### Thread safe function to test and validate models\n"
   ]
  },
  {
   "cell_type": "code",
   "execution_count": null,
   "metadata": {
    "notebookRunGroups": {
     "groupValue": "1"
    }
   },
   "outputs": [],
   "source": [
    "def thread_safe_test(model_name, type, i, cropped_test, modified_imgsz):\n",
    "\n",
    "    q.put(1)\n",
    "\n",
    "    model = YOLO(os.path.join(\"runs\", type, model_name, \"weights\", \"best.pt\"))\n",
    "\n",
    "    if cropped_test:\n",
    "        name = 'ctest_' + model_name\n",
    "        if os.path.exists(os.path.join(\"runs\", type, name)):\n",
    "            return\n",
    "        l_metrics[i] = model.val(data=test_cropped_yaml_path, plots=True, device=0, imgsz=modified_imgsz, split='test', name=name, task=type, save_json=True)\n",
    "    else:\n",
    "        name = 'test_' + model_name\n",
    "        if os.path.exists(os.path.join(\"runs\", type, name)):\n",
    "            return\n",
    "        l_metrics[i] = model.val(data=test_yaml_path, plots=True, device=0, split='test', name=name, task=type, save_json=True)\n",
    "\n"
   ]
  },
  {
   "cell_type": "markdown",
   "metadata": {},
   "source": [
    "### Function to get a list of all images\n"
   ]
  },
  {
   "cell_type": "code",
   "execution_count": null,
   "metadata": {
    "notebookRunGroups": {
     "groupValue": "1"
    }
   },
   "outputs": [],
   "source": [
    "def get_images(path, amount=-1):\n",
    "    img_list = []\n",
    "    for file in os.listdir(path):\n",
    "        if file.endswith(\".jpg\") or file.endswith(\".png\"):\n",
    "            img_list.append(os.path.join(path, file))\n",
    "    random.shuffle(img_list)\n",
    "    return img_list if amount == -1 else img_list[:amount]\n"
   ]
  },
  {
   "cell_type": "markdown",
   "metadata": {},
   "source": [
    "### Function to dissect and label images\n"
   ]
  },
  {
   "cell_type": "code",
   "execution_count": null,
   "metadata": {
    "notebookRunGroups": {
     "groupValue": "1"
    }
   },
   "outputs": [],
   "source": [
    "def plot_data(results, color: dict, \n",
    "             label_lvl = 1,\n",
    "             led_only = True,  \n",
    "             predict = False, \n",
    "             plot_seg = True, \n",
    "             show_img = False, \n",
    "             output_type = None):\n",
    "\n",
    "    SORT_ORDER = {1: 0, 0: 1, 3: 2, 2: 3}\n",
    "    SHOW_CLS = [1, 3] if led_only else [0, 1, 2, 3]\n",
    "    CHIP_CLS = [2, 3]\n",
    "\n",
    "    if isinstance(output_type, list):\n",
    "        if len(output_type) != len(results):\n",
    "            raise ValueError(\"Length of output_type must match the number of results\")\n",
    "    \n",
    "    if not isinstance(color, dict):\n",
    "        raise ValueError(\"Color must be a dictionary, including all 4 classes\")\n",
    "    \n",
    "    if color.keys() != {0, 1, 2, 3}:\n",
    "        raise ValueError(\"Color dictionary must include all 4 classes: 0, 1, 2, 3\")\n",
    "\n",
    "    mpl.rcParams['figure.dpi'] = 300\n",
    "\n",
    "\n",
    "    for i, result in enumerate(results):\n",
    "        fig, ax = plt.subplots()\n",
    "\n",
    "        img = cv2.cvtColor(cv2.imread(result.path), cv2.COLOR_BGR2RGB)\n",
    "        m = None\n",
    "\n",
    "        main_pad_bounds = None\n",
    "        led_pad_bounds = None\n",
    "\n",
    "        masks = [x.xy[0] for x in result.masks]\n",
    "        classes = [int(x) for x in result.boxes.cls.tolist()]\n",
    "        confs = result.boxes.conf\n",
    "\n",
    "        obj_tups = zip(classes, masks, confs)\n",
    "        obj_tups = list(sorted(obj_tups, key=lambda x: SORT_ORDER[x[0]]))\n",
    "\n",
    "        if obj_tups[0][0] == 1:\n",
    "            rect = cv2.minAreaRect(np.array(obj_tups[0][1]))\n",
    "            if rect[1][0] > rect[1][1] and (90 * round(rect[2]/90)) == 0:\n",
    "                angle = rect[2]\n",
    "            elif rect[1][0] < rect[1][1] and (90 * round(rect[2]/90)) == 90:\n",
    "                angle = 270 + rect[2]\n",
    "            elif rect[1][0] > rect[1][1] and (90 * round(rect[2]/90)) == 90:\n",
    "                angle = rect[2]\n",
    "            else:\n",
    "                angle = 270 + rect[2]\n",
    "            m = cv2.getRotationMatrix2D(rect[0], angle, 1)\n",
    "\n",
    "        if m is not None:\n",
    "            img = cv2.warpAffine(img, m, (img.shape[1], img.shape[0]))\n",
    "\n",
    "\n",
    "        for cls, msk, conf in obj_tups:\n",
    "            if cls not in SHOW_CLS:\n",
    "                break\n",
    "\n",
    "            if m is not None:\n",
    "                msk = cv2.transform(np.array([msk]), m)[0]\n",
    "\n",
    "            rect = cv2.minAreaRect(np.array(msk))\n",
    "            obb = cv2.boxPoints(rect)\n",
    "\n",
    "            seg_color = color[cls]['seg']\n",
    "            box_color = color[cls]['box']\n",
    "            pred_color = color[cls]['pred'] if 'pred' in color[cls] else None\n",
    "            text_color = color[cls]['text']\n",
    "\n",
    "            if predict and cls in CHIP_CLS:\n",
    "                obb_alpha = 0.5 * box_color[1]\n",
    "                seg_alpha = 0.5 * seg_color[1]\n",
    "                text_color = \"none\"\n",
    "            else:\n",
    "                obb_alpha = box_color[1]\n",
    "                seg_alpha = seg_color[1]\n",
    "\n",
    "\n",
    "            (cx, cy), (width, height), angle = rect\n",
    "            if (90 * round(rect[2]/90)) == 90:\n",
    "                height, width = width, height\n",
    "            if cls == 0:\n",
    "                main_pad_bounds = cv2.RotatedRect((cx,cy), (width * 0.85, height * 0.85), 0)\n",
    "            elif cls == 1:\n",
    "                led_pad_bounds = cv2.RotatedRect((cx,cy), (width * 0.875, height * 0.8), 0)\n",
    "\n",
    "            obb_poly = patches.Polygon(obb, linewidth=2, edgecolor=box_color[0], facecolor='none', alpha=obb_alpha)\n",
    "            ax.add_patch(obb_poly)\n",
    "\n",
    "            label = \"\"\n",
    "            if label_lvl > 0:\n",
    "                label = f\"Segmented {obj_name[cls]}\"\n",
    "            if label_lvl > 2:\n",
    "                label = f\"{label}\\nConf.: {conf:.4f}\"\n",
    "            \n",
    "            if cls in CHIP_CLS:\n",
    "                if label_lvl > 1:\n",
    "                    status = 'Pass' if abs(angle-90) < 2 or abs(angle-90) > 88 else 'Fail'\n",
    "                    label = f\"{label}\\nAngle: {abs(angle-90):.3f} - {status}\"\n",
    "\n",
    "                    pad_bounds = main_pad_bounds if cls == 2 else led_pad_bounds \n",
    "                    x, y, w, h = cv2.boundingRect(np.array(msk))               \n",
    "\n",
    "                    max_x = x + w\n",
    "                    min_x = x\n",
    "                    max_y = y + h\n",
    "                    min_y = y\n",
    "\n",
    "                    pad_max_x = pad_bounds.center[0] + pad_bounds.size[0]/2\n",
    "                    pad_min_x = pad_bounds.center[0] - pad_bounds.size[0]/2\n",
    "                    pad_max_y = pad_bounds.center[1] + pad_bounds.size[1]/2\n",
    "                    pad_min_y = pad_bounds.center[1] - pad_bounds.size[1]/2\n",
    "\n",
    "                    if max_x < pad_max_x and min_x > pad_min_x and max_y < pad_max_y and min_y > pad_min_y:\n",
    "                        label = f\"{label}\\nWithin Bounds\"\n",
    "                    else:\n",
    "                        label = f\"{label}\\nOut of Bounds\"\n",
    "                    \n",
    "            if cls not in CHIP_CLS or not predict:\n",
    "                ax.text(cx-width/2+2, cy+height/2+6, label, color=text_color, verticalalignment='top', fontsize=2.5)\n",
    "\n",
    "            for point in msk if plot_seg else []:\n",
    "                plt.scatter(point[0], point[1], c=seg_color[0], s=0.5, alpha=seg_alpha)\n",
    "\n",
    "            if predict:\n",
    "                if cls == 1:\n",
    "                    chip_1 = cv2.RotatedRect((cx-0.22*width,cy), (width*0.35, height*0.7), 0)\n",
    "                    chip_2 = cv2.RotatedRect((cx+0.22*width,cy), (width*0.33, height*0.66), 0)\n",
    "\n",
    "                    chip_1 = cv2.boxPoints(chip_1)\n",
    "                    chip_2 = cv2.boxPoints(chip_2)\n",
    "\n",
    "                    chip_1_poly = patches.Polygon(chip_1, linewidth=2, edgecolor=pred_color[0], facecolor='none', alpha=pred_color[1])\n",
    "                    chip_2_poly = patches.Polygon(chip_2, linewidth=2, edgecolor=pred_color[0], facecolor='none', alpha=pred_color[1])\n",
    "\n",
    "                    ax.add_patch(chip_1_poly)\n",
    "                    ax.add_patch(chip_2_poly)\n",
    "\n",
    "                elif cls == 0:\n",
    "                    main_chip = cv2.RotatedRect((cx, cy), (width*0.7, height*0.7), 0)\n",
    "                    main_chip = cv2.boxPoints(main_chip)\n",
    "\n",
    "                    main_chip_poly = patches.Polygon(main_chip, linewidth=2, edgecolor=pred_color[0], facecolor='none', alpha=pred_color[1])\n",
    "\n",
    "                    ax.add_patch(main_chip_poly)\n",
    "\n",
    "        if show_img:\n",
    "            plt.imshow(img)\n",
    "        else:\n",
    "            ax.invert_yaxis()\n",
    "        \n",
    "        plt.axis('off')\n",
    "        plt.style.use('dark_background')\n",
    "        ax.autoscale_view()\n",
    "        ax.set_aspect('equal')\n",
    "\n",
    "        if output_type:\n",
    "            if isinstance(output_type, list):\n",
    "                name = output_type[i]\n",
    "            elif output_type == 'index':\n",
    "                name = i\n",
    "            elif output_type == 'name':\n",
    "                name = os.path.basename(result.path)\n",
    "            else:\n",
    "                name = f'{output_type}_{i}'\n",
    "            \n",
    "            name = f'{name}{\"_predict\" if predict else \"\"}{\"_contour\" if plot_seg else \"\"}.png'\n",
    "\n",
    "            if not os.path.exists('./results'):\n",
    "                os.makedirs('./results')\n",
    "            plt.savefig(f'./results/{name}', bbox_inches='tight', pad_inches=0, transparent=True)\n",
    "\n"
   ]
  },
  {
   "cell_type": "markdown",
   "metadata": {},
   "source": [
    "### Other utils\n"
   ]
  },
  {
   "cell_type": "code",
   "execution_count": null,
   "metadata": {
    "notebookRunGroups": {
     "groupValue": "1"
    }
   },
   "outputs": [],
   "source": [
    "def log(message, level = 1):\n",
    "    if log_level >= level:\n",
    "        print(message)\n"
   ]
  },
  {
   "cell_type": "markdown",
   "metadata": {},
   "source": [
    "## Run Codes\n"
   ]
  },
  {
   "cell_type": "markdown",
   "metadata": {},
   "source": [
    "### Validating the models\n"
   ]
  },
  {
   "cell_type": "code",
   "execution_count": null,
   "metadata": {},
   "outputs": [],
   "source": [
    "for i, (model, v) in enumerate(models.items()):\n",
    "    t = threading.Thread(target=thread_safe_test, args=(model, v[0], i, False, v[1]))\n",
    "    t.start()\n",
    "    t.join()\n",
    "    q.get()\n"
   ]
  },
  {
   "cell_type": "code",
   "execution_count": null,
   "metadata": {},
   "outputs": [],
   "source": [
    "for i, metric in enumerate(l_metrics):\n",
    "    print(metric.box.map)\n"
   ]
  },
  {
   "cell_type": "markdown",
   "metadata": {},
   "source": [
    "### Label checking\n"
   ]
  },
  {
   "cell_type": "code",
   "execution_count": null,
   "metadata": {},
   "outputs": [],
   "source": [
    "# img_dir = 'datasets/rendered/train'\n",
    "# img_name = 'bad_9.png'\n",
    "\n",
    "# img_dir = 'datasets/test_cropped'\n",
    "# img_name = 'HHF22220109_5_20_72-MW_1.jpg'\n",
    "\n",
    "img_dir = 'datasets/render_tests/control/train'\n",
    "img_name = 'control_10800.png'\n",
    "\n",
    "# Load the image\n",
    "image_path = os.path.join(img_dir, img_name)\n",
    "image = Image.open(image_path)\n",
    "\n",
    "image_width, image_height = image.size\n",
    "\n",
    "# Load the label in YOLO polygon format\n",
    "label_name = img_name.replace('png', 'txt').replace('jpg', 'txt')\n",
    "label_path = os.path.join(img_dir, label_name)\n",
    "with open(label_path, 'r') as f:\n",
    "    labels = f.read().splitlines()\n",
    "\n",
    "# Parse the label to extract the polygon coordinates\n",
    "# Assuming the label is in the format: id x1 y1 x2 y2 x3 y3 x4 y4\n",
    "shapes = []\n",
    "for label in labels:\n",
    "    label = label.split(' ')\n",
    "    label = [ float(x) for x in label ]\n",
    "    point1 = (label[1]*image_width, label[2]*image_height)\n",
    "    point2 = (label[3]*image_width, label[4]*image_height)\n",
    "    point3 = (label[5]*image_width, label[6]*image_height)\n",
    "    point4 = (label[7]*image_width, label[8]*image_height)\n",
    "\n",
    "    shapes.append((label[0],[point1, point2, point3, point4]))\n",
    "\n",
    "\n",
    "# Plot the image\n",
    "fig, ax = plt.subplots()\n",
    "ax.imshow(image)\n",
    "ax.axis('off')\n",
    "\n",
    "for data in shapes:\n",
    "    i, shape = data\n",
    "    polygon = patches.Polygon(shape, linewidth=1, edgecolor='r', facecolor='none')    \n",
    "\n",
    "    # Add the patch to the Axes\n",
    "    ax.add_patch(polygon)\n",
    "\n",
    "    # Add label to the patches according to obj_name\n",
    "    label = obj_name[i]\n",
    "    ax.text(shape[0][0], shape[0][1], label, color='white')\n",
    "\n",
    "plt.show()\n"
   ]
  },
  {
   "cell_type": "markdown",
   "metadata": {},
   "source": [
    "### Display outputs\n"
   ]
  },
  {
   "cell_type": "code",
   "execution_count": null,
   "metadata": {
    "notebookRunGroups": {
     "groupValue": "2"
    }
   },
   "outputs": [],
   "source": [
    "model = YOLO('runs/segment/final_yolov9c-seg_combined_sled/weights/best.pt')\n",
    "\n",
    "# images = get_images(test_path, 5)\n",
    "\n",
    "images =  [\n",
    "    \"C:/Users/KohCo/Desktop/FYP/ASPLProject/datasets/test/HHH23630057_9_13_55-DPI_1.jpg\",\n",
    "    \"C:/Users/KohCo/Desktop/FYP/ASPLProject/datasets/test/HHH23630078_40_11_55-DPI_1.jpg\",\n",
    "    \"C:/Users/KohCo/Desktop/FYP/ASPLProject/datasets/test/HHH23740006_4_9_55-DPI_1.jpg\"\n",
    "]\n",
    "\n",
    "results = model(images)\n",
    "\n",
    "# results = model(images, imgsz=320)\n"
   ]
  },
  {
   "cell_type": "code",
   "execution_count": null,
   "metadata": {
    "notebookRunGroups": {
     "groupValue": "2"
    }
   },
   "outputs": [],
   "source": [
    "lbl_color = {\n",
    "    0: {\n",
    "        \"box\": [\"salmon\", 1],\n",
    "        \"seg\": [\"snow\", 0.6],\n",
    "        \"pred\": [\"gold\", 1],\n",
    "        \"text\": \"salmon\"\n",
    "    },\n",
    "    1: {\n",
    "        \"box\": [\"salmon\", 1],\n",
    "        \"seg\": [\"snow\", 0.6],\n",
    "        \"pred\": [\"gold\", 1],\n",
    "        \"text\": \"salmon\"\n",
    "    },\n",
    "    2: {\n",
    "        \"box\": [\"skyblue\", 1],\n",
    "        \"seg\": [\"snow\", 0.8],\n",
    "        \"text\": \"skyblue\"\n",
    "    },\n",
    "    3: {\n",
    "        \"box\": [\"skyblue\", 1],\n",
    "        \"seg\": [\"snow\", 0.8],\n",
    "        \"text\": \"skyblue\"\n",
    "    }\n",
    "}\n",
    "\n",
    "log_level = 0\n",
    "\n",
    "plot_data(results, color=lbl_color, \n",
    "          label_lvl=2, \n",
    "          predict=False, \n",
    "          plot_seg=True,\n",
    "          led_only=False)\n",
    "\n"
   ]
  }
 ],
 "metadata": {
  "kernelspec": {
   "display_name": "ASPLProject",
   "language": "python",
   "name": "python3"
  },
  "language_info": {
   "codemirror_mode": {
    "name": "ipython",
    "version": 3
   },
   "file_extension": ".py",
   "mimetype": "text/x-python",
   "name": "python",
   "nbconvert_exporter": "python",
   "pygments_lexer": "ipython3",
   "version": "3.10.11"
  }
 },
 "nbformat": 4,
 "nbformat_minor": 2
}
