{
 "cells": [
  {
   "cell_type": "markdown",
   "metadata": {},
   "source": [
    "# Check labels"
   ]
  },
  {
   "cell_type": "code",
   "execution_count": null,
   "metadata": {},
   "outputs": [],
   "source": [
    "import matplotlib.pyplot as plt\n",
    "import matplotlib.patches as patches\n",
    "import matplotlib.transforms as transforms\n",
    "from PIL import Image\n",
    "\n",
    "# Load the image\n",
    "image_path = 'datasets/rendered/train/bad_9.png'\n",
    "# image_path = 'datasets/aspl_images/train/HHF22150120_40_10_56-MD_1.jpg'\n",
    "image = Image.open(image_path)\n",
    "\n",
    "image_width, image_height = image.size\n",
    "\n",
    "# Load the label in YOLO polygon format\n",
    "label_path = 'datasets/rendered/train/bad_9.txt'\n",
    "# label_path = 'datasets/aspl_images/train/HHF22150120_40_10_56-MD_1.txt'\n",
    "labels = []\n",
    "with open(label_path, 'r') as f:\n",
    "    labels = f.read().splitlines()\n",
    "\n",
    "# Parse the label to extract the polygon coordinates\n",
    "# Assuming the label is in the format: id x1 y1 x2 y2 x3 y3 x4 y4\n",
    "shapes = {}\n",
    "for label in labels:\n",
    "    label = label.split(' ')\n",
    "    label = [ float(x) for x in label ]\n",
    "    point1 = (label[1]*image_width, label[2]*image_height)\n",
    "    point2 = (label[3]*image_width, label[4]*image_height)\n",
    "    point3 = (label[5]*image_width, label[6]*image_height)\n",
    "    point4 = (label[7]*image_width, label[8]*image_height)\n",
    "\n",
    "    print (point1, point2, point3, point4)\n",
    "    shapes[label[0]] = [point1, point2, point3, point4]\n",
    "\n",
    "# just plot the fucking points as corner of squares\n",
    "# Plot the image\n",
    "fig, ax = plt.subplots()\n",
    "ax.imshow(image)\n",
    "ax.axis('off')\n",
    "\n",
    "for shape in shapes.values():\n",
    "    polygon = patches.Polygon(shape, linewidth=1, edgecolor='r', facecolor='none')\n",
    "\n",
    "    polygon.set_transform(ax.transData)\n",
    "\n",
    "    # Add the patch to the Axes\n",
    "    ax.add_patch(polygon)\n",
    "\n",
    "plt.show()\n"
   ]
  }
 ],
 "metadata": {
  "kernelspec": {
   "display_name": "ASPLProject",
   "language": "python",
   "name": "python3"
  },
  "language_info": {
   "codemirror_mode": {
    "name": "ipython",
    "version": 3
   },
   "file_extension": ".py",
   "mimetype": "text/x-python",
   "name": "python",
   "nbconvert_exporter": "python",
   "pygments_lexer": "ipython3",
   "version": "3.11.9"
  }
 },
 "nbformat": 4,
 "nbformat_minor": 2
}
