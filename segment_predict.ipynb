{
 "cells": [
  {
   "cell_type": "markdown",
   "metadata": {},
   "source": [
    "# Segment and Prediction Notebook\n",
    "\n",
    "## Setup\n",
    "\n",
    "### Imports and Global Variables\n"
   ]
  },
  {
   "cell_type": "code",
   "execution_count": null,
   "metadata": {
    "notebookRunGroups": {
     "groupValue": "1"
    }
   },
   "outputs": [],
   "source": [
    "import os\n",
    "import threading\n",
    "\n",
    "from queue import Queue\n",
    "\n",
    "import cv2\n",
    "import matplotlib.pyplot as plt\n",
    "import matplotlib.patches as patches\n",
    "import matplotlib.transforms as transforms\n",
    "import numpy as np \n",
    "import pandas as pd \n",
    "\n",
    "from PIL import Image\n",
    "from ultralytics import YOLO\n",
    "\n",
    "obj_name = {\n",
    "    0: 'Main Pad',\n",
    "    1: 'LED Pad',\n",
    "    2: 'Main Chip',\n",
    "    3: 'LED Chip'\n",
    "}\n",
    "\n",
    "models = {\n",
    "    'final_yolov8s-seg_cgi_sled': ['segment', '320'],\n",
    "    'final_yolov8s-seg_human_sled': ['segment', '320'],\n",
    "    'final_yolov8s-seg_combined_sled': ['segment', '320'],\n",
    "    'final_yolov9c-seg_cgi_sled': ['segment', '320'],\n",
    "    'final_yolov9c-seg_human_sled': ['segment', '320'],\n",
    "    'final_yolov9c-seg_combined_sled': ['segment', '320'],\n",
    "    'final_yolov8s-obb_cgi_sled': ['OBB', '400'],\n",
    "    'final_yolov8s-obb_human_sled': ['OBB', '400'],\n",
    "    'final_yolov8s-obb_combined_sled': ['OBB', '400'],\n",
    "}\n",
    "\n",
    "l_metrics = [None] * len(models)\n",
    "q = Queue(maxsize=1)\n",
    "\n",
    "test_cropped_path = os.path.relpath(\"./datasets/test_cropped\")\n",
    "test_path = os.path.relpath(\"./datasets/test\")\n",
    "\n",
    "test_cropped_yaml_path = os.path.relpath(\"./datasets_yaml/test_cropped.yaml\")\n",
    "test_yaml_path = os.path.relpath(\"./datasets_yaml/sled/combined_sled.yaml\")\n",
    "\n",
    "images = []\n",
    "no_led = []\n"
   ]
  },
  {
   "cell_type": "markdown",
   "metadata": {},
   "source": [
    "### Thread safe function to test and validate models\n"
   ]
  },
  {
   "cell_type": "code",
   "execution_count": null,
   "metadata": {
    "notebookRunGroups": {
     "groupValue": "1"
    }
   },
   "outputs": [],
   "source": [
    "def thread_safe_test(model_name, type, i, cropped_test, modified_imgsz):\n",
    "\n",
    "    q.put(1)\n",
    "\n",
    "    model = YOLO(os.path.join(\"runs\", type, model_name, \"weights\", \"best.pt\"))\n",
    "\n",
    "    if cropped_test:\n",
    "        name = 'ctest_' + model_name\n",
    "        if os.path.exists(os.path.join(\"runs\", type, name)):\n",
    "            return\n",
    "        l_metrics[i] = model.val(data=test_cropped_yaml_path, plots=True, device=0, imgsz=modified_imgsz, split='test', name=name, task=type)\n",
    "    else:\n",
    "        name = 'test_' + model_name\n",
    "        if os.path.exists(os.path.join(\"runs\", type, name)):\n",
    "            return\n",
    "        l_metrics[i] = model.val(data=test_yaml_path, plots=True, device=0, split='test', name=name, task=type)\n",
    "\n"
   ]
  },
  {
   "cell_type": "markdown",
   "metadata": {},
   "source": [
    "### Function to get a list of all images\n"
   ]
  },
  {
   "cell_type": "code",
   "execution_count": null,
   "metadata": {
    "notebookRunGroups": {
     "groupValue": "1"
    }
   },
   "outputs": [],
   "source": [
    "def get_all_images(path):\n",
    "    for file in os.listdir(path):\n",
    "        if file.endswith(\".jpg\") or file.endswith(\".png\"):\n",
    "            images.append(os.path.join(path, file))\n"
   ]
  },
  {
   "cell_type": "markdown",
   "metadata": {},
   "source": [
    "## Run Codes\n"
   ]
  },
  {
   "cell_type": "markdown",
   "metadata": {},
   "source": [
    "### Validating the models\n"
   ]
  },
  {
   "cell_type": "code",
   "execution_count": null,
   "metadata": {},
   "outputs": [],
   "source": [
    "for i, (model, v) in enumerate(models.items()):\n",
    "    t = threading.Thread(target=thread_safe_test, args=(model, v[0], i, True, v[1]))\n",
    "    t.start()\n",
    "    t.join()\n",
    "    q.get()\n"
   ]
  },
  {
   "cell_type": "code",
   "execution_count": null,
   "metadata": {},
   "outputs": [],
   "source": [
    "for i, metric in enumerate(l_metrics):\n",
    "    print(metric.box.map)\n"
   ]
  },
  {
   "cell_type": "markdown",
   "metadata": {},
   "source": [
    "### Label checking\n"
   ]
  },
  {
   "cell_type": "code",
   "execution_count": null,
   "metadata": {},
   "outputs": [],
   "source": [
    "# img_dir = 'datasets/rendered/train'\n",
    "# img_name = 'bad_9.png'\n",
    "\n",
    "img_dir = 'datasets/test_cropped'\n",
    "img_name = 'HHF22220109_5_20_72-MW_1.jpg'\n",
    "\n",
    "# Load the image\n",
    "image_path = os.path.join(img_dir, img_name)\n",
    "image = Image.open(image_path)\n",
    "\n",
    "image_width, image_height = image.size\n",
    "\n",
    "# Load the label in YOLO polygon format\n",
    "label_name = img_name.replace('png', 'txt').replace('jpg', 'txt')\n",
    "label_path = os.path.join(img_dir, label_name)\n",
    "with open(label_path, 'r') as f:\n",
    "    labels = f.read().splitlines()\n",
    "\n",
    "# Parse the label to extract the polygon coordinates\n",
    "# Assuming the label is in the format: id x1 y1 x2 y2 x3 y3 x4 y4\n",
    "shapes = []\n",
    "for label in labels:\n",
    "    label = label.split(' ')\n",
    "    label = [ float(x) for x in label ]\n",
    "    point1 = (label[1]*image_width, label[2]*image_height)\n",
    "    point2 = (label[3]*image_width, label[4]*image_height)\n",
    "    point3 = (label[5]*image_width, label[6]*image_height)\n",
    "    point4 = (label[7]*image_width, label[8]*image_height)\n",
    "\n",
    "    shapes.append((label[0],[point1, point2, point3, point4]))\n",
    "\n",
    "\n",
    "# Plot the image\n",
    "fig, ax = plt.subplots()\n",
    "ax.imshow(image)\n",
    "ax.axis('off')\n",
    "\n",
    "for data in shapes:\n",
    "    i, shape = data\n",
    "    polygon = patches.Polygon(shape, linewidth=1, edgecolor='r', facecolor='none')    \n",
    "\n",
    "    # Add the patch to the Axes\n",
    "    ax.add_patch(polygon)\n",
    "\n",
    "    # Add label to the patches according to obj_name\n",
    "    label = obj_name[i]\n",
    "    ax.text(shape[0][0], shape[0][1], label, color='white')\n",
    "\n",
    "plt.show()\n"
   ]
  },
  {
   "cell_type": "markdown",
   "metadata": {},
   "source": [
    "### Get labelled output\n"
   ]
  },
  {
   "cell_type": "code",
   "execution_count": null,
   "metadata": {},
   "outputs": [],
   "source": [
    "model = YOLO('runs/segment/final_yolov9c-seg_combined_sled/weights/best.pt')\n",
    "\n",
    "get_all_images(test_path)\n",
    "\n",
    "\n",
    "# interest: 22\n",
    "\n",
    "images =  [\n",
    "    \"C:/Users/KohCo/Desktop/FYP/ASPLProject/datasets/test/HHH23630057_9_13_55-DPI_1.jpg\",\n",
    "    \"C:/Users/KohCo/Desktop/FYP/ASPLProject/datasets/test/HHH23630078_40_11_55-DPI_1.jpg\",\n",
    "    \"C:/Users/KohCo/Desktop/FYP/ASPLProject/datasets/test/HHH23740006_4_9_55-DPI_1.jpg\"\n",
    "]\n",
    "\n",
    "results = model(images, stream=True)\n",
    "\n",
    "no_led = []\n",
    "\n",
    "results_list = []\n",
    "\n",
    "for i, result in enumerate(results):\n",
    "    no_led.append((images[i],result))\n",
    "    results_list.append(result)\n",
    "    \n"
   ]
  },
  {
   "cell_type": "markdown",
   "metadata": {},
   "source": [
    "### Display outputs\n"
   ]
  },
  {
   "cell_type": "code",
   "execution_count": null,
   "metadata": {},
   "outputs": [],
   "source": [
    "# WIP\n",
    "\n",
    "# for i, result in enumerate(results_list):\n",
    "#     result.show()\n",
    "\n",
    "\n",
    "for i, (image, result) in enumerate(no_led):\n",
    "\n",
    "    fig, ax = plt.subplots()\n",
    "\n",
    "    data = result.summary()\n",
    "    img_name = image.split('/')[-1].split('.')[0]\n",
    "\n",
    "    img = cv2.imread(image)\n",
    "    img = cv2.cvtColor(img, cv2.COLOR_BGR2RGB)\n",
    "\n",
    "    # thresholding\n",
    "    # blur = cv2.cvtColor(img, cv2.COLOR_RGB2GRAY)\n",
    "    # th = cv2.threshold(blur, 40, 128, cv2.THRESH_BINARY)[1]\n",
    "\n",
    "    for item in data:\n",
    "\n",
    "        segment = item[\"segments\"]\n",
    "\n",
    "        contours = []\n",
    "        for i, seg in enumerate(segment['x']):\n",
    "            contours.append(np.array([seg, segment['y'][i]]))\n",
    "        ctr = np.array(contours).reshape((-1,1,2)).astype(np.int32)\n",
    "\n",
    "        rect = cv2.minAreaRect(ctr)\n",
    "        box = np.intp(cv2.boxPoints(rect))\n",
    "\n",
    "        if item[\"class\"] == 1:\n",
    "        # if True:\n",
    "            if rect[1][0] > rect[1][1]:\n",
    "                angle = rect[2]\n",
    "            else:\n",
    "                angle = 90 - rect[2]\n",
    "            \n",
    "            M = cv2.getRotationMatrix2D(rect[0], angle, 1)\n",
    "            # img = cv2.warpAffine(img, M, (img.shape[1], img.shape[0]))\n",
    "            # th = cv2.warpAffine(th, M, (th.shape[1], th.shape[0]))\n",
    "            box = cv2.transform(np.array([box]), M)[0]\n",
    "\n",
    "        # M = cv2.moments(th)\n",
    "        # cX = int(M[\"m10\"] / M[\"m00\"])\n",
    "        # cY = int(M[\"m01\"] / M[\"m00\"])\n",
    "\n",
    "        # # Check if the centroid is in the upper half of the image\n",
    "        # if cY < img.shape[0] / 2:\n",
    "        #     # Rotate the image by 180 degrees\n",
    "        #     M = cv2.getRotationMatrix2D((img.shape[1] / 2, img.shape[0] / 2), 180, 1)\n",
    "        #     img = cv2.warpAffine(img, M, (img.shape[1], img.shape[0]))\n",
    "        #     box = cv2.transform(np.array([box]), M)[0]\n",
    "\n",
    "        box_center = np.mean(box, axis=0)\n",
    "        box_width = None\n",
    "        box_height = None\n",
    "        max_x = 0\n",
    "        min_x = 1000000000\n",
    "        max_y = 0\n",
    "        min_y = 1000000000\n",
    "        for i, _ in enumerate(box):\n",
    "            max_x = max(max_x, box[i][0])\n",
    "            min_x = min(min_x, box[i][0])\n",
    "            max_y = max(max_y, box[i][1])\n",
    "            min_y = min(min_y, box[i][1])\n",
    "        box_width = max_x - min_x\n",
    "        box_height = max_y - min_y\n",
    "\n",
    "        if item[\"class\"] == 1:\n",
    "\n",
    "            box_1 = box.copy()\n",
    "            box_2 = box.copy()\n",
    "\n",
    "            # subtract box1 by box_width /2\n",
    "            for i, _ in enumerate(box_1):\n",
    "                box_1[i][0] = (box_1[i][0] * 0.35) + (1-0.35) * box_center[0] - 0.25 * box_width\n",
    "                box_1[i][1] = (box_1[i][1] * 0.7) + (1-0.7) * box_center[1]\n",
    "            \n",
    "            # add box2 by box_width /2\n",
    "            for i, _ in enumerate(box_2):\n",
    "                box_2[i][0] = (box_2[i][0] * 0.33) + (1-0.33) * box_center[0] + 0.25 * box_width\n",
    "                box_2[i][1] = (box_2[i][1] * 0.66) + (1-0.66) * box_center[1]\n",
    "\n",
    "            box_polygon = patches.Polygon(box, linewidth=4, edgecolor='salmon', facecolor='none')\n",
    "            ax.add_patch(box_polygon)\n",
    "\n",
    "            label = \"Segmented Pad\"\n",
    "            ax.text(box_center[0]-box_width/2+2, box_center[1]-box_height/2-15, label, color='salmon')\n",
    "\n",
    "            for p in contours:\n",
    "                plt.scatter(p[0], p[1], c='white', s=0.5)\n",
    "\n",
    "        elif item[\"class\"] == 3:\n",
    "            chip_polygon = patches.Polygon(box, linewidth=2, edgecolor='skyblue', facecolor='none', alpha=0.3)\n",
    "            ax.add_patch(chip_polygon)\n",
    "\n",
    "            label = \"Segmented Chip\"\n",
    "            ax.text(box_center[0]-box_width/2+2, box_center[1]-box_height/2-15, label, color='skyblue')\n",
    "\n",
    "            for p in contours:\n",
    "                plt.scatter(p[0], p[1], c='white', s=0.5)\n",
    "\n",
    "    box_polygon_1 = patches.Polygon(box_1, linewidth=2, edgecolor='lightgreen', facecolor='none')\n",
    "    box_polygon_2 = patches.Polygon(box_2, linewidth=2, edgecolor='lightgreen', facecolor='none')\n",
    "\n",
    "    ax.add_patch(box_polygon_1)\n",
    "    ax.add_patch(box_polygon_2)\n",
    "\n",
    "    ax.autoscale_view()\n",
    "    ax.set_aspect('equal')\n",
    "    \n",
    "    # plt.imshow(img)\n",
    "    plt.axis('off')\n",
    "    plt.savefig(f'./results/{img_name}_predict.png', bbox_inches='tight', pad_inches=0, transparent=True)\n",
    "\n",
    "\n",
    "\n",
    "        \n",
    "\n"
   ]
  }
 ],
 "metadata": {
  "kernelspec": {
   "display_name": "ASPLProject",
   "language": "python",
   "name": "python3"
  },
  "language_info": {
   "codemirror_mode": {
    "name": "ipython",
    "version": 3
   },
   "file_extension": ".py",
   "mimetype": "text/x-python",
   "name": "python",
   "nbconvert_exporter": "python",
   "pygments_lexer": "ipython3",
   "version": "3.10.11"
  }
 },
 "nbformat": 4,
 "nbformat_minor": 2
}
